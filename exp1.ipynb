{
  "nbformat": 4,
  "nbformat_minor": 0,
  "metadata": {
    "colab": {
      "provenance": []
    },
    "kernelspec": {
      "name": "python3",
      "display_name": "Python 3"
    },
    "language_info": {
      "name": "python"
    }
  },
  "cells": [
    {
      "cell_type": "code",
      "source": [
        "mdp_model={\n",
        "     0:{\n",
        "         0: [(0.8, 1, 10.0, False), (0.1, 2, 9.0, False), (0.1, 0, 7.0, False)],\n",
        "         1: [(0.7, 0, 7.0, False),(0.3, 1, 10.0, False)]\n",
        "      },\n",
        "     1: {\n",
        "         0: [(0.5, 1, 10.0, False), (0.2, 0, 7.0, False), (0.3, 2, 9.0, False)],\n",
        "         1: [(0.2, 2, 9.0, False), (0.3, 1, 10.0, False), (0.5, 0, 7.0, False)]\n",
        "},\n",
        "     2: {\n",
        "\n",
        "         0: [(0.5, 2, 9.0, True), (0.5, 3, 6.0, False)],\n",
        "         1: [(0.8, 1, 10.0, False), (0.2, 0, 7.0, False)]\n",
        "     },\n",
        "     3: {\n",
        "         1: [(0.5, 2, 9.0, True), (0.5, 1, 10.0, False)]\n",
        "     }\n",
        "        }\n"
      ],
      "metadata": {
        "id": "WnoG-u5YPsfF"
      },
      "execution_count": null,
      "outputs": []
    },
    {
      "cell_type": "code",
      "source": [
        "mdp_model"
      ],
      "metadata": {
        "id": "hu6FVEFtVsYd",
        "outputId": "88087f2e-63c8-46a2-d5a3-63edb0af8f8f",
        "colab": {
          "base_uri": "https://localhost:8080/"
        }
      },
      "execution_count": null,
      "outputs": [
        {
          "output_type": "execute_result",
          "data": {
            "text/plain": [
              "{0: {0: [(0.8, 1, 10.0, False), (0.1, 2, 9.0, False), (0.1, 0, 7.0, False)],\n",
              "  1: [(0.7, 0, 7.0, False), (0.3, 1, 10.0, False)]},\n",
              " 1: {0: [(0.5, 1, 10.0, False), (0.2, 0, 7.0, False), (0.3, 2, 9.0, True)],\n",
              "  1: [(0.2, 2, 9.0, True), (0.3, 1, 10.0, False), (0.5, 0, 7.0, False)]},\n",
              " 2: {0: [(0.5, 2, 9.0, True), (0.5, 3, 6.0, False)],\n",
              "  1: [(0.8, 1, 10.0, False), (0.2, 0, 7.0, False)]},\n",
              " 3: {1: [(0.5, 2, 9.0, True), (0.5, 1, 10.0, False)]}}"
            ]
          },
          "metadata": {},
          "execution_count": 17
        }
      ]
    },
    {
      "cell_type": "code",
      "source": [],
      "metadata": {
        "id": "oZVbBEI4WucB"
      },
      "execution_count": null,
      "outputs": []
    }
  ]
}